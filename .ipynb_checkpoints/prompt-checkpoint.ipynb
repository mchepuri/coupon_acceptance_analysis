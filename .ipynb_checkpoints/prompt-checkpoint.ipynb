{
 "cells": [
  {
   "cell_type": "markdown",
   "metadata": {
    "id": "CcUT6Fon_qRE"
   },
   "source": [
    "### Required Assignment 5.1: Will the Customer Accept the Coupon?\n",
    "\n",
    "**Context**\n",
    "\n",
    "Imagine driving through town and a coupon is delivered to your cell phone for a restaurant near where you are driving. Would you accept that coupon and take a short detour to the restaurant? Would you accept the coupon but use it on a subsequent trip? Would you ignore the coupon entirely? What if the coupon was for a bar instead of a restaurant? What about a coffee house? Would you accept a bar coupon with a minor passenger in the car? What about if it was just you and your partner in the car? Would weather impact the rate of acceptance? What about the time of day?\n",
    "\n",
    "Obviously, proximity to the business is a factor on whether the coupon is delivered to the driver or not, but what are the factors that determine whether a driver accepts the coupon once it is delivered to them? How would you determine whether a driver is likely to accept a coupon?\n",
    "\n",
    "**Overview**\n",
    "\n",
    "The goal of this project is to use what you know about visualizations and probability distributions to distinguish between customers who accepted a driving coupon versus those that did not.\n",
    "\n",
    "**Data**\n",
    "\n",
    "This data comes to us from the UCI Machine Learning repository and was collected via a survey on Amazon Mechanical Turk. The survey describes different driving scenarios including the destination, current time, weather, passenger, etc., and then ask the person whether he will accept the coupon if he is the driver. Answers that the user will drive there ‘right away’ or ‘later before the coupon expires’ are labeled as ‘Y = 1’ and answers ‘no, I do not want the coupon’ are labeled as ‘Y = 0’.  There are five different types of coupons -- less expensive restaurants (under \\$20), coffee houses, carry out & take away, bar, and more expensive restaurants (\\$20 - $50)."
   ]
  },
  {
   "cell_type": "markdown",
   "metadata": {
    "id": "1wORvMBJ_qRF"
   },
   "source": [
    "**Deliverables**\n",
    "\n",
    "Your final product should be a brief report that highlights the differences between customers who did and did not accept the coupons.  To explore the data you will utilize your knowledge of plotting, statistical summaries, and visualization using Python. You will publish your findings in a public facing github repository as your first portfolio piece.\n",
    "\n",
    "\n",
    "\n"
   ]
  },
  {
   "cell_type": "markdown",
   "metadata": {
    "id": "pG6_Ym6q_qRG"
   },
   "source": [
    "### Data Description\n",
    "Keep in mind that these values mentioned below are average values.\n",
    "\n",
    "The attributes of this data set include:\n",
    "1. User attributes\n",
    "    -  Gender: male, female\n",
    "    -  Age: below 21, 21 to 25, 26 to 30, etc.\n",
    "    -  Marital Status: single, married partner, unmarried partner, or widowed\n",
    "    -  Number of children: 0, 1, or more than 1\n",
    "    -  Education: high school, bachelors degree, associates degree, or graduate degree\n",
    "    -  Occupation: architecture & engineering, business & financial, etc.\n",
    "    -  Annual income: less than \\\\$12500, \\\\$12500 - \\\\$24999, \\\\$25000 - \\\\$37499, etc.\n",
    "    -  Number of times that he/she goes to a bar: 0, less than 1, 1 to 3, 4 to 8 or greater than 8\n",
    "    -  Number of times that he/she buys takeaway food: 0, less than 1, 1 to 3, 4 to 8 or greater\n",
    "    than 8\n",
    "    -  Number of times that he/she goes to a coffee house: 0, less than 1, 1 to 3, 4 to 8 or\n",
    "    greater than 8\n",
    "    -  Number of times that he/she eats at a restaurant with average expense less than \\\\$20 per\n",
    "    person: 0, less than 1, 1 to 3, 4 to 8 or greater than 8\n",
    "    -  Number of times that he/she goes to a bar: 0, less than 1, 1 to 3, 4 to 8 or greater than 8\n",
    "    \n",
    "\n",
    "2. Contextual attributes\n",
    "    - Driving destination: home, work, or no urgent destination\n",
    "    - Location of user, coupon and destination: we provide a map to show the geographical\n",
    "    location of the user, destination, and the venue, and we mark the distance between each\n",
    "    two places with time of driving. The user can see whether the venue is in the same\n",
    "    direction as the destination.\n",
    "    - Weather: sunny, rainy, or snowy\n",
    "    - Temperature: 30F, 55F, or 80F\n",
    "    - Time: 10AM, 2PM, or 6PM\n",
    "    - Passenger: alone, partner, kid(s), or friend(s)\n",
    "\n",
    "\n",
    "3. Coupon attributes\n",
    "    - time before it expires: 2 hours or one day"
   ]
  },
  {
   "cell_type": "code",
   "execution_count": 112,
   "metadata": {
    "id": "dzNoP3o__qRG"
   },
   "outputs": [],
   "source": [
    "import matplotlib.pyplot as plt\n",
    "import seaborn as sns\n",
    "import pandas as pd\n",
    "import numpy as np"
   ]
  },
  {
   "cell_type": "markdown",
   "metadata": {
    "id": "Ct8pI1uE_qRG"
   },
   "source": [
    "### Problems\n",
    "\n",
    "Use the prompts below to get started with your data analysis.  \n",
    "\n",
    "1. Read in the `coupons.csv` file.\n",
    "\n",
    "\n"
   ]
  },
  {
   "cell_type": "code",
   "execution_count": 15,
   "metadata": {
    "id": "X0vbffYg_qRH"
   },
   "outputs": [],
   "source": [
    "data = pd.read_csv('./coupons.csv')"
   ]
  },
  {
   "cell_type": "code",
   "execution_count": 110,
   "metadata": {
    "id": "TXofQ_DF_qRH",
    "outputId": "2fc96a2c-1112-4b54-f24f-dbb9bc88abfb"
   },
   "outputs": [
    {
     "name": "stdout",
     "output_type": "stream",
     "text": [
      "317100\n"
     ]
    },
    {
     "data": {
      "text/plain": [
       "destination             object\n",
       "passanger               object\n",
       "weather                 object\n",
       "temperature              int64\n",
       "time                    object\n",
       "coupon                  object\n",
       "expiration              object\n",
       "gender                  object\n",
       "age                     object\n",
       "maritalStatus           object\n",
       "has_children             int64\n",
       "education               object\n",
       "occupation              object\n",
       "income                  object\n",
       "Bar                     object\n",
       "CoffeeHouse             object\n",
       "CarryAway               object\n",
       "RestaurantLessThan20    object\n",
       "Restaurant20To50        object\n",
       "toCoupon_GEQ5min         int64\n",
       "toCoupon_GEQ15min        int64\n",
       "toCoupon_GEQ25min        int64\n",
       "direction_same           int64\n",
       "direction_opp            int64\n",
       "Y                        int64\n",
       "dtype: object"
      ]
     },
     "execution_count": 110,
     "metadata": {},
     "output_type": "execute_result"
    }
   ],
   "source": [
    "data.head()\n",
    "print(data.size)\n",
    "data.dtypes"
   ]
  },
  {
   "cell_type": "markdown",
   "metadata": {
    "id": "GcDs78ZH_qRH"
   },
   "source": [
    "2. Investigate the dataset for missing or problematic data."
   ]
  },
  {
   "cell_type": "code",
   "execution_count": 17,
   "metadata": {
    "id": "6CwL6oWj_qRH"
   },
   "outputs": [
    {
     "data": {
      "text/plain": [
       "destination                 0\n",
       "direction_same              0\n",
       "toCoupon_GEQ25min           0\n",
       "toCoupon_GEQ15min           0\n",
       "toCoupon_GEQ5min            0\n",
       "income                      0\n",
       "direction_opp               0\n",
       "education                   0\n",
       "has_children                0\n",
       "occupation                  0\n",
       "age                         0\n",
       "gender                      0\n",
       "expiration                  0\n",
       "coupon                      0\n",
       "time                        0\n",
       "temperature                 0\n",
       "weather                     0\n",
       "passanger                   0\n",
       "maritalStatus               0\n",
       "Y                           0\n",
       "Bar                       107\n",
       "RestaurantLessThan20      130\n",
       "CarryAway                 151\n",
       "Restaurant20To50          189\n",
       "CoffeeHouse               217\n",
       "car                     12576\n",
       "dtype: int64"
      ]
     },
     "execution_count": 17,
     "metadata": {},
     "output_type": "execute_result"
    }
   ],
   "source": [
    "data.isnull().sum().sort_values()\n"
   ]
  },
  {
   "cell_type": "markdown",
   "metadata": {
    "id": "bSdVSpYB_qRH"
   },
   "source": [
    "3. Decide what to do about your missing data -- drop, replace, other..."
   ]
  },
  {
   "cell_type": "code",
   "execution_count": 238,
   "metadata": {
    "id": "tyvoAC5F_qRI"
   },
   "outputs": [
    {
     "data": {
      "text/plain": [
       "0        never\n",
       "1        never\n",
       "2        never\n",
       "3        never\n",
       "4        never\n",
       "         ...  \n",
       "12679    never\n",
       "12680    never\n",
       "12681    never\n",
       "12682    never\n",
       "12683    never\n",
       "Name: CoffeeHouse, Length: 12684, dtype: object"
      ]
     },
     "execution_count": 238,
     "metadata": {},
     "output_type": "execute_result"
    }
   ],
   "source": [
    "#data = dat.drop(columns=['car'])\n",
    "data['Bar'].fillna(data['Bar'].mode()[0])\n",
    "data['CoffeeHouse'].fillna(data['CoffeeHouse'].mode()[0])\n",
    "data['CarryAway'].fillna(data['CarryAway'].mode()[0])\n",
    "data['RestaurantLessThan20'].fillna(data['RestaurantLessThan20'].mode()[0])\n",
    "data['Restaurant20To50'].fillna(data['Restaurant20To50'].mode()[0])\n",
    "data['direction_same'].fillna(data['direction_same'].mode()[0])\n",
    "data['direction_opp'].fillna(data['direction_opp'].mode()[0])\n",
    "data['CoffeeHouse'].fillna(data['CoffeeHouse'].mode()[0])\n"
   ]
  },
  {
   "cell_type": "markdown",
   "metadata": {
    "id": "YE6oJbXd_qRI"
   },
   "source": [
    "4. What proportion of the total observations chose to accept the coupon?\n",
    "\n"
   ]
  },
  {
   "cell_type": "code",
   "execution_count": 246,
   "metadata": {
    "id": "86GGqBTv_qRI"
   },
   "outputs": [
    {
     "data": {
      "text/plain": [
       "0.5684326710816777"
      ]
     },
     "execution_count": 246,
     "metadata": {},
     "output_type": "execute_result"
    }
   ],
   "source": [
    "\n",
    "data[\"Y\"].mean()\n"
   ]
  },
  {
   "cell_type": "markdown",
   "metadata": {
    "id": "vflz0DoE_qRI"
   },
   "source": [
    "5. Use a bar plot to visualize the `coupon` column."
   ]
  },
  {
   "cell_type": "code",
   "execution_count": 255,
   "metadata": {
    "id": "dHFh3E45_qRI"
   },
   "outputs": [
    {
     "data": {
      "text/plain": [
       "<Axes: xlabel='coupon'>"
      ]
     },
     "execution_count": 255,
     "metadata": {},
     "output_type": "execute_result"
    },
    {
     "data": {
      "image/png": "[encoded data removed]",
      "text/plain": [
       "<Figure size 640x480 with 1 Axes>"
      ]
     },
     "metadata": {},
     "output_type": "display_data"
    }
   ],
   "source": [
    "colors = ['red', 'green', 'blue', 'purple','grey']\n",
    "# this is a simple pandas bar plot.\n",
    "data.groupby(by=\"coupon\")[['coupon']].value_counts().sort_values().plot.bar(color=colors)\n",
    "# we can use sns/marplot libs for more sophisticasted features.\n"
   ]
  },
  {
   "cell_type": "markdown",
   "metadata": {
    "id": "Qw4lCyx2_qRI"
   },
   "source": [
    "6. Use a histogram to visualize the temperature column."
   ]
  },
  {
   "cell_type": "code",
   "execution_count": 261,
   "metadata": {
    "id": "Yg9Anv71_qRI"
   },
   "outputs": [
    {
     "data": {
      "image/png": "[encoded data removed]",
      "text/plain": [
       "<Figure size 800x600 with 1 Axes>"
      ]
     },
     "metadata": {},
     "output_type": "display_data"
    }
   ],
   "source": [
    "#basic option\n",
    "#data['temperature'].hist()\n",
    "\n",
    "#more sophisticated representation\n",
    "plt.figure(figsize=(8, 6))\n",
    "sns.histplot(data=data, x='temperature', bins=3, kde=False, palette='viridis', hue='Y')\n",
    "plt.title('Distribution of Temperature')\n",
    "plt.xlabel('Temperature (F)')\n",
    "plt.ylabel('Count')\n",
    "plt.xticks([30, 55, 80]) # Set explicit ticks for clarity based on description\n",
    "plt.show()"
   ]
  },
  {
   "cell_type": "code",
   "execution_count": null,
   "metadata": {
    "id": "zLtOaJQk_qRI"
   },
   "outputs": [],
   "source": []
  },
  {
   "cell_type": "code",
   "execution_count": null,
   "metadata": {
    "id": "7GBHZKBp_qRJ"
   },
   "outputs": [],
   "source": []
  },
  {
   "cell_type": "code",
   "execution_count": null,
   "metadata": {
    "id": "Y5nBUA-j_qRJ"
   },
   "outputs": [],
   "source": []
  },
  {
   "cell_type": "code",
   "execution_count": null,
   "metadata": {
    "id": "ShcUC-Vm_qRJ"
   },
   "outputs": [],
   "source": []
  },
  {
   "cell_type": "markdown",
   "metadata": {
    "id": "FupfgeJk_qRJ"
   },
   "source": [
    "**Investigating the Bar Coupons**\n",
    "\n",
    "Now, we will lead you through an exploration of just the bar related coupons.  \n",
    "\n",
    "1. Create a new `DataFrame` that contains just the bar coupons.\n"
   ]
  },
  {
   "cell_type": "code",
   "execution_count": 169,
   "metadata": {
    "id": "tMBlWuGq_qRJ",
    "scrolled": true
   },
   "outputs": [
    {
     "data": {
      "text/html": [
       "<div>\n",
       "<style scoped>\n",
       "    .dataframe tbody tr th:only-of-type {\n",
       "        vertical-align: middle;\n",
       "    }\n",
       "\n",
       "    .dataframe tbody tr th {\n",
       "        vertical-align: top;\n",
       "    }\n",
       "\n",
       "    .dataframe thead th {\n",
       "        text-align: right;\n",
       "    }\n",
       "</style>\n",
       "<table border=\"1\" class=\"dataframe\">\n",
       "  <thead>\n",
       "    <tr style=\"text-align: right;\">\n",
       "      <th></th>\n",
       "      <th>destination</th>\n",
       "      <th>passanger</th>\n",
       "      <th>weather</th>\n",
       "      <th>temperature</th>\n",
       "      <th>time</th>\n",
       "      <th>coupon</th>\n",
       "      <th>expiration</th>\n",
       "      <th>gender</th>\n",
       "      <th>age</th>\n",
       "      <th>maritalStatus</th>\n",
       "      <th>...</th>\n",
       "      <th>CoffeeHouse</th>\n",
       "      <th>CarryAway</th>\n",
       "      <th>RestaurantLessThan20</th>\n",
       "      <th>Restaurant20To50</th>\n",
       "      <th>toCoupon_GEQ5min</th>\n",
       "      <th>toCoupon_GEQ15min</th>\n",
       "      <th>toCoupon_GEQ25min</th>\n",
       "      <th>direction_same</th>\n",
       "      <th>direction_opp</th>\n",
       "      <th>Y</th>\n",
       "    </tr>\n",
       "  </thead>\n",
       "  <tbody>\n",
       "    <tr>\n",
       "      <th>9</th>\n",
       "      <td>No Urgent Place</td>\n",
       "      <td>Kid(s)</td>\n",
       "      <td>Sunny</td>\n",
       "      <td>80</td>\n",
       "      <td>10AM</td>\n",
       "      <td>Bar</td>\n",
       "      <td>1d</td>\n",
       "      <td>Female</td>\n",
       "      <td>21</td>\n",
       "      <td>Unmarried partner</td>\n",
       "      <td>...</td>\n",
       "      <td>never</td>\n",
       "      <td>NaN</td>\n",
       "      <td>4~8</td>\n",
       "      <td>1~3</td>\n",
       "      <td>1</td>\n",
       "      <td>1</td>\n",
       "      <td>0</td>\n",
       "      <td>0</td>\n",
       "      <td>1</td>\n",
       "      <td>0</td>\n",
       "    </tr>\n",
       "    <tr>\n",
       "      <th>13</th>\n",
       "      <td>Home</td>\n",
       "      <td>Alone</td>\n",
       "      <td>Sunny</td>\n",
       "      <td>55</td>\n",
       "      <td>6PM</td>\n",
       "      <td>Bar</td>\n",
       "      <td>1d</td>\n",
       "      <td>Female</td>\n",
       "      <td>21</td>\n",
       "      <td>Unmarried partner</td>\n",
       "      <td>...</td>\n",
       "      <td>never</td>\n",
       "      <td>NaN</td>\n",
       "      <td>4~8</td>\n",
       "      <td>1~3</td>\n",
       "      <td>1</td>\n",
       "      <td>0</td>\n",
       "      <td>0</td>\n",
       "      <td>1</td>\n",
       "      <td>0</td>\n",
       "      <td>1</td>\n",
       "    </tr>\n",
       "    <tr>\n",
       "      <th>17</th>\n",
       "      <td>Work</td>\n",
       "      <td>Alone</td>\n",
       "      <td>Sunny</td>\n",
       "      <td>55</td>\n",
       "      <td>7AM</td>\n",
       "      <td>Bar</td>\n",
       "      <td>1d</td>\n",
       "      <td>Female</td>\n",
       "      <td>21</td>\n",
       "      <td>Unmarried partner</td>\n",
       "      <td>...</td>\n",
       "      <td>never</td>\n",
       "      <td>NaN</td>\n",
       "      <td>4~8</td>\n",
       "      <td>1~3</td>\n",
       "      <td>1</td>\n",
       "      <td>1</td>\n",
       "      <td>1</td>\n",
       "      <td>0</td>\n",
       "      <td>1</td>\n",
       "      <td>0</td>\n",
       "    </tr>\n",
       "    <tr>\n",
       "      <th>24</th>\n",
       "      <td>No Urgent Place</td>\n",
       "      <td>Friend(s)</td>\n",
       "      <td>Sunny</td>\n",
       "      <td>80</td>\n",
       "      <td>10AM</td>\n",
       "      <td>Bar</td>\n",
       "      <td>1d</td>\n",
       "      <td>Male</td>\n",
       "      <td>21</td>\n",
       "      <td>Single</td>\n",
       "      <td>...</td>\n",
       "      <td>less1</td>\n",
       "      <td>4~8</td>\n",
       "      <td>4~8</td>\n",
       "      <td>less1</td>\n",
       "      <td>1</td>\n",
       "      <td>0</td>\n",
       "      <td>0</td>\n",
       "      <td>0</td>\n",
       "      <td>1</td>\n",
       "      <td>1</td>\n",
       "    </tr>\n",
       "    <tr>\n",
       "      <th>35</th>\n",
       "      <td>Home</td>\n",
       "      <td>Alone</td>\n",
       "      <td>Sunny</td>\n",
       "      <td>55</td>\n",
       "      <td>6PM</td>\n",
       "      <td>Bar</td>\n",
       "      <td>1d</td>\n",
       "      <td>Male</td>\n",
       "      <td>21</td>\n",
       "      <td>Single</td>\n",
       "      <td>...</td>\n",
       "      <td>less1</td>\n",
       "      <td>4~8</td>\n",
       "      <td>4~8</td>\n",
       "      <td>less1</td>\n",
       "      <td>1</td>\n",
       "      <td>0</td>\n",
       "      <td>0</td>\n",
       "      <td>1</td>\n",
       "      <td>0</td>\n",
       "      <td>1</td>\n",
       "    </tr>\n",
       "  </tbody>\n",
       "</table>\n",
       "<p>5 rows × 25 columns</p>\n",
       "</div>"
      ],
      "text/plain": [
       "        destination  passanger weather  temperature  time coupon expiration  \\\n",
       "9   No Urgent Place     Kid(s)   Sunny           80  10AM    Bar         1d   \n",
       "13             Home      Alone   Sunny           55   6PM    Bar         1d   \n",
       "17             Work      Alone   Sunny           55   7AM    Bar         1d   \n",
       "24  No Urgent Place  Friend(s)   Sunny           80  10AM    Bar         1d   \n",
       "35             Home      Alone   Sunny           55   6PM    Bar         1d   \n",
       "\n",
       "    gender age      maritalStatus  ...  CoffeeHouse CarryAway  \\\n",
       "9   Female  21  Unmarried partner  ...        never       NaN   \n",
       "13  Female  21  Unmarried partner  ...        never       NaN   \n",
       "17  Female  21  Unmarried partner  ...        never       NaN   \n",
       "24    Male  21             Single  ...        less1       4~8   \n",
       "35    Male  21             Single  ...        less1       4~8   \n",
       "\n",
       "   RestaurantLessThan20 Restaurant20To50 toCoupon_GEQ5min toCoupon_GEQ15min  \\\n",
       "9                   4~8              1~3                1                 1   \n",
       "13                  4~8              1~3                1                 0   \n",
       "17                  4~8              1~3                1                 1   \n",
       "24                  4~8            less1                1                 0   \n",
       "35                  4~8            less1                1                 0   \n",
       "\n",
       "   toCoupon_GEQ25min direction_same direction_opp  Y  \n",
       "9                  0              0             1  0  \n",
       "13                 0              1             0  1  \n",
       "17                 1              0             1  0  \n",
       "24                 0              0             1  1  \n",
       "35                 0              1             0  1  \n",
       "\n",
       "[5 rows x 25 columns]"
      ]
     },
     "execution_count": 169,
     "metadata": {},
     "output_type": "execute_result"
    }
   ],
   "source": [
    "# with query\n",
    "#data_bar_coupons=data.query('coupon==\"Bar\"')\n",
    "\n",
    "# with column selector.\n",
    "data_bar_coupons=data[data['coupon']==\"Bar\"]\n",
    "data_bar_coupons.head()\n"
   ]
  },
  {
   "cell_type": "markdown",
   "metadata": {
    "id": "8ue6uCqf_qRJ"
   },
   "source": [
    "2. What proportion of bar coupons were accepted?\n"
   ]
  },
  {
   "cell_type": "code",
   "execution_count": 177,
   "metadata": {
    "id": "hSdte8Mi_qRK",
    "scrolled": true
   },
   "outputs": [
    {
     "data": {
      "text/plain": [
       "<Axes: >"
      ]
     },
     "execution_count": 177,
     "metadata": {},
     "output_type": "execute_result"
    },
    {
     "data": {
      "image/png": "[encoded data removed]",
      "text/plain": [
       "<Figure size 640x480 with 1 Axes>"
      ]
     },
     "metadata": {},
     "output_type": "display_data"
    }
   ],
   "source": [
    "\n",
    "#using mean\n",
    "#print(data_bar_coupons['Y'].mean())\n",
    "\n",
    "# to plot it on chart, we need counts seperately.\n",
    "acceptance_counts = data_bar_coupons['Y'].value_counts().sort_index();\n",
    "\n",
    "#label columns\n",
    "bar_acceptance_counts.index = ['Not Accepted', 'Accepted']\n",
    "\n",
    "#plot the bar chart.\n",
    "bar_acceptance_counts.plot(kind=\"bar\")"
   ]
  },
  {
   "cell_type": "markdown",
   "metadata": {
    "id": "85nA_iEi_qRK"
   },
   "source": [
    "3. Compare the acceptance rate between those who went to a bar 3 or fewer times a month to those who went more.\n"
   ]
  },
  {
   "cell_type": "code",
   "execution_count": 276,
   "metadata": {
    "id": "LBOrN-XM_qRK"
   },
   "outputs": [
    {
     "name": "stdout",
     "output_type": "stream",
     "text": [
      "3 or less      0.768844\n",
      "More than 3    0.647355\n",
      "Name: Y, dtype: float64\n"
     ]
    },
    {
     "data": {
      "text/plain": [
       "<Axes: >"
      ]
     },
     "execution_count": 276,
     "metadata": {},
     "output_type": "execute_result"
    },
    {
     "data": {
      "image/png": "[encoded data removed]",
      "text/plain": [
       "<Figure size 640x480 with 1 Axes>"
      ]
     },
     "metadata": {},
     "output_type": "display_data"
    }
   ],
   "source": [
    "bar_less_than_three = ['never','less1','1~3']\n",
    "bar_greater_than_three = ['4-8','gt8']\n",
    "#print(data_bar_coupons.query('Bar in @bar_less_than_three').size)\n",
    "#print(data_bar_coupons.query('Bar in @bar_greater_than_three').size)\n",
    "#data_bar_coupons['Bar'].where( lambda x: \n",
    "\n",
    "\n",
    "data_bar_coupons.loc[:,'num_times_bar_in_a_month'] = np.where(data_bar_coupons['Bar'].isin(bar_less_than_three) , 'le_3','gt_3')\n",
    "accepted_bar_lt_3=data_bar_coupons.groupby('num_times_bar_in_a_month')['Y'].mean()\n",
    "accepted_bar_lt_3.index=[\"3 or less\", \"More than 3\"]\n",
    "print(accepted_bar_lt_3)\n",
    "accepted_bar_lt_3.plot(kind=\"bar\")\n"
   ]
  },
  {
   "cell_type": "markdown",
   "metadata": {
    "id": "RBgcQwH4_qRK"
   },
   "source": [
    "4. Compare the acceptance rate between drivers who go to a bar more than once a month and are over the age of 25 to the all others.  Is there a difference?\n"
   ]
  },
  {
   "cell_type": "code",
   "execution_count": 304,
   "metadata": {
    "id": "bf28bbeX_qRK"
   },
   "outputs": [
    {
     "name": "stdout",
     "output_type": "stream",
     "text": [
      "                                 Y\n",
      "All Others                0.670455\n",
      "Bar > 1/month & Age > 25  0.695238\n",
      "Difference in acceptance rate: -0.0248\n",
      "\n",
      "There appears to be a difference in acceptance rates between the two groups.\n"
     ]
    },
    {
     "data": {
      "image/png": "[encoded data removed]",
      "text/plain": [
       "<Figure size 640x480 with 1 Axes>"
      ]
     },
     "metadata": {},
     "output_type": "display_data"
    }
   ],
   "source": [
    "bar_more_than_once = ['1~3','4~8','gt8']\n",
    "# Identify who goes to bar more than once and mark it as Y or N on a new column \"bar_gt_1\" ?\n",
    "data_bar_coupons.loc[:,'bar_gt_1']=np.where(data_bar_coupons[\"Bar\"].isin(bar_more_than_once),'Y','N')\n",
    "#Since this is object convert it to string\n",
    "data_bar_coupons['bar_gt_1']=data_bar_coupons['bar_gt_1'].apply(str)\n",
    "# Identify who is above 21.\n",
    "data_bar_coupons.loc[:,\"above_25\"]=np.where(~data_bar_coupons[\"age\"].isin([\"21\",\"below21\"]),'Y','N')\n",
    "# convert to string\n",
    "data_bar_coupons['above_25']=data_bar_coupons['below_25'].apply(str)\n",
    "\n",
    "# identify if both columns are Y and store on seperate column\n",
    "# this column tells derives the acceptance\n",
    "data_bar_coupons.loc[:,\"bar_gt_1_above_25\"] =np.where((data_bar_coupons['bar_gt_1']=='Y') & (data_bar_coupons['above_25']=='Y'),'Y','N')\n",
    "\n",
    "# group by and see counts\n",
    "bar_gt_1_above_25=data_bar_coupons.groupby('bar_gt_1_above_25')[['Y']].mean()\n",
    "\n",
    "\n",
    "\n",
    "#rename columns for better depeicture\n",
    "bar_gt_1_above_25.index=['All Others','Bar > 1/month & Age > 25']\n",
    "\n",
    "print(bar_gt_1_above_25)\n",
    "\n",
    "#plot the graph.\n",
    "bar_gt_1_above_25.plot(kind=\"bar\")\n",
    "\n",
    "group1_acceptance = pd.to_numeric(bar_gt_1_above_25.loc['All Others'].iloc[0])\n",
    "group2_acceptance = pd.to_numeric(bar_gt_1_above_25.loc['Bar > 1/month & Age > 25'].iloc[0])\n",
    "\n",
    "\n",
    "# Assess if there is a difference (visually or numerically)\n",
    "# Based on the output and visualization, we can observe if there's a noticeable difference in the acceptance rates between the two groups.\n",
    "# A statistical test (like a t-test or chi-squared test, depending on the data structure) could provide a more rigorous answer, but the prompt asks if there is a difference (implying a visual or numerical comparison is sufficient here).\n",
    "\n",
    "\n",
    "difference = group1_acceptance - group2_acceptance\n",
    "print(f\"Difference in acceptance rate: {difference:.4f}\")\n",
    "\n",
    "# Based on the calculated difference, we can state whether there is a difference.\n",
    "if abs(difference) > 0.01: # Define a small threshold for practical difference\n",
    "    print(\"\\nThere appears to be a difference in acceptance rates between the two groups.\")\n",
    "else:\n",
    "    print(\"\\nThere does not appear to be a significant difference in acceptance rates between the two groups based on this comparison.\")"
   ]
  },
  {
   "cell_type": "markdown",
   "metadata": {
    "id": "S4RKT4PJ_qRK"
   },
   "source": [
    "5. Use the same process to compare the acceptance rate between drivers who go to bars more than once a month and had passengers that were not a kid and had occupations other than farming, fishing, or forestry.\n"
   ]
  },
  {
   "cell_type": "code",
   "execution_count": 314,
   "metadata": {
    "id": "sENaI2Tg_qRK"
   },
   "outputs": [
    {
     "name": "stdout",
     "output_type": "stream",
     "text": [
      "                                 Y\n",
      "All Others                0.377778\n",
      "No_Kids_Farm_Fish_Forest  0.713249\n",
      "Difference in acceptance rate: -0.3355\n",
      "\n",
      "There appears to be a difference in acceptance rates between the two groups.\n"
     ]
    },
    {
     "data": {
      "image/png": "[encoded data removed]",
      "text/plain": [
       "<Figure size 640x480 with 1 Axes>"
      ]
     },
     "metadata": {},
     "output_type": "display_data"
    }
   ],
   "source": [
    "# Identify non kid passenger\n",
    "data_bar_coupons.loc[:,\"non_kids\"]=np.where(data_bar_coupons[\"Bar\"].isin(bar_more_than_once) &\n",
    "                                            ~data_bar_coupons[\"passanger\"].isin([\"Kid(s)\"]) &\n",
    "                                            ~data_bar_coupons[\"occupation\"].isin([\"Farming Fishing & Forestry\"]),\n",
    "                                    'Y','N')\t\n",
    "data_bar_coupons[[\"non_kids\",\"passanger\",\"occupation\"]]\n",
    "\n",
    "# group by and see counts\n",
    "bar_non_kids=data_bar_coupons.groupby('non_kids')[['Y']].mean()\n",
    "\n",
    "\n",
    "\n",
    "#rename columns for better depeicture\n",
    "bar_non_kids.index=['All Others','No_Kids_Farm_Fish_Forest']\n",
    "\n",
    "print(bar_non_kids)\n",
    "\n",
    "#plot the graph.\n",
    "bar_non_kids.plot(kind=\"bar\")\n",
    "\n",
    "\n",
    "# Assess if there is a difference (visually or numerically)\n",
    "# Based on the output and visualization, we can observe if there's a noticeable difference in the acceptance rates between the two groups.\n",
    "# A statistical test (like a t-test or chi-squared test, depending on the data structure) could provide a more rigorous answer, but the prompt asks if there is a difference (implying a visual or numerical comparison is sufficient here).\n",
    "group1_acceptance = pd.to_numeric(bar_non_kids.loc['All Others'].iloc[0])\n",
    "group2_acceptance = pd.to_numeric(bar_non_kids.loc['No_Kids_Farm_Fish_Forest'].iloc[0])\n",
    "\n",
    "\n",
    "difference = group1_acceptance - group2_acceptance\n",
    "print(f\"Difference in acceptance rate: {difference:.4f}\")\n",
    "\n",
    "# Based on the calculated difference, we can state whether there is a difference.\n",
    "if abs(difference) > 0.01: # Define a small threshold for practical difference\n",
    "    print(\"\\nThere appears to be a difference in acceptance rates between the two groups.\")\n",
    "else:\n",
    "    print(\"\\nThere does not appear to be a significant difference in acceptance rates between the two groups based on this comparison.\")\n"
   ]
  },
  {
   "cell_type": "markdown",
   "metadata": {
    "id": "n2LIUTil_qRK"
   },
   "source": [
    "6. Compare the acceptance rates between those drivers who:\n",
    "\n",
    "- go to bars more than once a month, had passengers that were not a kid, and were not widowed *OR*\n",
    "- go to bars more than once a month and are under the age of 30 *OR*\n",
    "- go to cheap restaurants more than 4 times a month and income is less than 50K.\n",
    "\n"
   ]
  },
  {
   "cell_type": "code",
   "execution_count": 350,
   "metadata": {
    "id": "aK_wEzx7_qRK"
   },
   "outputs": [
    {
     "name": "stdout",
     "output_type": "stream",
     "text": [
      "0.7132486388384754\n",
      "0.7217391304347827\n",
      "0.6329113924050633\n"
     ]
    },
    {
     "data": {
      "image/png": "[encoded data removed]",
      "text/plain": [
       "<Figure size 800x500 with 1 Axes>"
      ]
     },
     "metadata": {},
     "output_type": "display_data"
    }
   ],
   "source": [
    "# Condition 1 - Identify go to bars more than once a month, had passengers that were not a kid, and were not widowed \n",
    "data_bar_coupons.loc[:,\"group_1\"]=np.where(data_bar_coupons[\"Bar\"].isin(bar_more_than_once) &\n",
    "                                               ~data_bar_coupons[\"passanger\"].isin([\"Kid(s)\"]) &\n",
    "                                                ~data_bar_coupons[\"maritalStatus\"].isin([\"Widowed\"]),\n",
    "                                            'Y','N')\n",
    "      \n",
    "#Condition 2 -  go to bars more than once a month and are under the age of 30 OR\n",
    "data_bar_coupons.loc[:,\"group_2\"]=np.where(data_bar_coupons[\"Bar\"].isin(bar_more_than_once) &\n",
    "                                               data_bar_coupons[\"age\"].isin([\"below21\",\"21\",\"26\"]),\n",
    "                                            'Y','N')\t\n",
    "\n",
    "\n",
    "# Condition 3 - go to cheap restaurants more than 4 times a month and income is less than 50K.\n",
    "incomes_below_50k = [\n",
    "    'Less than $12500', '$12500 - $24999',\n",
    "    '$25000 - $37499', '$37500 - $49999'\n",
    "]\n",
    "data_bar_coupons.loc[:,\"group_3\"]=np.where(data_bar_coupons[\"RestaurantLessThan20\"].isin([\"less1\",\"1~3\"]) &\n",
    "                                               data_bar_coupons[\"income\"].isin(incomes_below_50k),\n",
    "                                            'Y','N')\t\n",
    "\n",
    "acceptance_ratio_group_1 = data_bar_coupons.groupby(\"group_1\")[\"Y\"].mean().get('Y', np.nan)\n",
    "acceptance_ratio_group_2 = data_bar_coupons.groupby(\"group_2\")[\"Y\"].mean().get('Y', np.nan)\n",
    "acceptance_ratio_group_3 = data_bar_coupons.groupby(\"group_3\")[\"Y\"].mean().get('Y', np.nan)\n",
    "\n",
    "print(acceptance_ratio_group_1)\n",
    "print(acceptance_ratio_group_2)\n",
    "print(acceptance_ratio_group_3)\n",
    "\n",
    "# Combine into a DataFrame for plotting\n",
    "acceptance_rates = pd.DataFrame({\n",
    "    'Group': ['Group 1', 'Group 2', 'Group 3'],\n",
    "    'Acceptance Rate': [acceptance_ratio_group_1, acceptance_ratio_group_2, acceptance_ratio_group_3]\n",
    "})\n",
    "\n",
    "# Plot\n",
    "plt.figure(figsize=(8, 5))\n",
    "plt.bar(acceptance_rates['Group'], acceptance_rates['Acceptance Rate'], color=['steelblue', 'green', 'darkorange'])\n",
    "plt.ylim(0, 1)\n",
    "plt.title('Coupon Acceptance Rates by Group Condition')\n",
    "plt.ylabel('Acceptance Rate')\n",
    "plt.grid(axis='y', linestyle='--', alpha=0.6)\n",
    "\n",
    "# Add percentage labels\n",
    "for i, rate in enumerate(acceptance_rates['Acceptance Rate']):\n",
    "    plt.text(i, rate + 0.02, f'{rate:.2%}', ha='center', fontweight='bold')\n",
    "\n",
    "plt.tight_layout()\n",
    "plt.show()\n"
   ]
  },
  {
   "cell_type": "markdown",
   "metadata": {
    "id": "v3fL3QkO_qRK"
   },
   "source": [
    "7.  Based on these observations, what do you hypothesize about drivers who accepted the bar coupons?"
   ]
  },
  {
   "cell_type": "code",
   "execution_count": null,
   "metadata": {
    "id": "Y48naDFh_qRL"
   },
   "outputs": [],
   "source": [
    "Apparently The drivers who goes to cheap restaurants more than 4 times a month and income is less than 50K are accepting less percentage compared to go to bars more than once a month and are under the age of 30 "
   ]
  },
  {
   "cell_type": "markdown",
   "metadata": {
    "id": "r4Hu1zOb_qRL"
   },
   "source": [
    "### Independent Investigation\n",
    "\n",
    "Using the bar coupon example as motivation, you are to explore one of the other coupon groups and try to determine the characteristics of passengers who accept the coupons.  "
   ]
  },
  {
   "cell_type": "code",
   "execution_count": null,
   "metadata": {
    "id": "0c71cQhu_qRL"
   },
   "outputs": [],
   "source": []
  },
  {
   "cell_type": "code",
   "execution_count": null,
   "metadata": {
    "id": "QEsBkvIN_qRL"
   },
   "outputs": [],
   "source": []
  },
  {
   "cell_type": "code",
   "execution_count": null,
   "metadata": {
    "id": "fTC2WGE3_qRL"
   },
   "outputs": [],
   "source": []
  },
  {
   "cell_type": "code",
   "execution_count": null,
   "metadata": {
    "id": "RrqUWn7d_qRL"
   },
   "outputs": [],
   "source": []
  },
  {
   "cell_type": "code",
   "execution_count": null,
   "metadata": {
    "id": "_oykf8YP_qRL"
   },
   "outputs": [],
   "source": []
  }
 ],
 "metadata": {
  "colab": {
   "provenance": []
  },
  "kernelspec": {
   "display_name": "Python [conda env:base] *",
   "language": "python",
   "name": "conda-base-py"
  },
  "language_info": {
   "codemirror_mode": {
    "name": "ipython",
    "version": 3
   },
   "file_extension": ".py",
   "mimetype": "text/x-python",
   "name": "python",
   "nbconvert_exporter": "python",
   "pygments_lexer": "ipython3",
   "version": "3.12.7"
  }
 },
 "nbformat": 4,
 "nbformat_minor": 4
}
